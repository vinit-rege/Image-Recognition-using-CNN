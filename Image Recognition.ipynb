{
 "cells": [
  {
   "cell_type": "code",
   "execution_count": 1,
   "metadata": {},
   "outputs": [
    {
     "name": "stderr",
     "output_type": "stream",
     "text": [
      "Using TensorFlow backend.\n"
     ]
    }
   ],
   "source": [
    "# Importing the Keras libraries and packages\n",
    "from keras.models import Sequential\n",
    "from keras.layers import Convolution2D\n",
    "from keras.layers import MaxPooling2D\n",
    "from keras.layers import Flatten\n",
    "from keras.layers import Dense\n",
    "from keras.preprocessing.image import ImageDataGenerator\n",
    "import warnings; \n",
    "warnings.simplefilter('ignore')\n"
   ]
  },
  {
   "cell_type": "code",
   "execution_count": 2,
   "metadata": {},
   "outputs": [],
   "source": [
    "train_img = ImageDataGenerator(rescale = 1./255,\n",
    "                                   shear_range = 0.2,\n",
    "                                   zoom_range = 0.2,\n",
    "                                   horizontal_flip = True)\n",
    "\n",
    "test_img = ImageDataGenerator(rescale = 1./255)"
   ]
  },
  {
   "cell_type": "code",
   "execution_count": 3,
   "metadata": {},
   "outputs": [
    {
     "name": "stdout",
     "output_type": "stream",
     "text": [
      "Found 8000 images belonging to 2 classes.\n"
     ]
    }
   ],
   "source": [
    "train_data = train_img.flow_from_directory('F:/vinit.rege/Convolutional_Neural_Networks/dataset/training_set',\n",
    "                                                 target_size = (64, 64),\n",
    "                                                 batch_size = 32,\n",
    "                                                 class_mode = 'binary')"
   ]
  },
  {
   "cell_type": "code",
   "execution_count": 4,
   "metadata": {},
   "outputs": [
    {
     "name": "stdout",
     "output_type": "stream",
     "text": [
      "Found 2000 images belonging to 2 classes.\n"
     ]
    }
   ],
   "source": [
    "test_data = test_img.flow_from_directory('F:/vinit.rege/Convolutional_Neural_Networks/dataset/test_set',\n",
    "                                            target_size = (64, 64),\n",
    "                                            batch_size = 32,\n",
    "                                            class_mode = 'binary')"
   ]
  },
  {
   "cell_type": "code",
   "execution_count": 5,
   "metadata": {},
   "outputs": [],
   "source": [
    "# Initialising the CNN\n",
    "classifier = Sequential()"
   ]
  },
  {
   "cell_type": "code",
   "execution_count": 6,
   "metadata": {},
   "outputs": [
    {
     "name": "stdout",
     "output_type": "stream",
     "text": [
      "WARNING:tensorflow:From C:\\ProgramData\\Anaconda3\\lib\\site-packages\\tensorflow\\python\\framework\\op_def_library.py:263: colocate_with (from tensorflow.python.framework.ops) is deprecated and will be removed in a future version.\n",
      "Instructions for updating:\n",
      "Colocations handled automatically by placer.\n"
     ]
    }
   ],
   "source": [
    "# Adding Convolution layer\n",
    "classifier.add(Convolution2D(32, 3, 3, input_shape = (64, 64, 3), activation = 'relu'))"
   ]
  },
  {
   "cell_type": "code",
   "execution_count": 7,
   "metadata": {},
   "outputs": [],
   "source": [
    "# Adding Pooling layer\n",
    "classifier.add(MaxPooling2D(pool_size = (2, 2)))"
   ]
  },
  {
   "cell_type": "code",
   "execution_count": 8,
   "metadata": {},
   "outputs": [],
   "source": [
    "# Adding a second convolutional layer for more accuracy\n",
    "classifier.add(Convolution2D(32, 3, 3, activation = 'relu'))\n",
    "classifier.add(MaxPooling2D(pool_size = (2, 2)))"
   ]
  },
  {
   "cell_type": "code",
   "execution_count": 9,
   "metadata": {},
   "outputs": [],
   "source": [
    "# Adding Flattening layer\n",
    "classifier.add(Flatten())"
   ]
  },
  {
   "cell_type": "code",
   "execution_count": 10,
   "metadata": {},
   "outputs": [],
   "source": [
    "# Build Full connection (Hidden layer)\n",
    "classifier.add(Dense(output_dim = 128, activation = 'relu'))\n",
    "classifier.add(Dense(output_dim = 1, activation = 'sigmoid'))"
   ]
  },
  {
   "cell_type": "code",
   "execution_count": 11,
   "metadata": {},
   "outputs": [],
   "source": [
    "# Compiling the Model\n",
    "classifier.compile(optimizer = 'adam', loss = 'binary_crossentropy', metrics = ['accuracy'])"
   ]
  },
  {
   "cell_type": "code",
   "execution_count": 12,
   "metadata": {},
   "outputs": [
    {
     "name": "stdout",
     "output_type": "stream",
     "text": [
      "WARNING:tensorflow:From C:\\ProgramData\\Anaconda3\\lib\\site-packages\\tensorflow\\python\\ops\\math_ops.py:3066: to_int32 (from tensorflow.python.ops.math_ops) is deprecated and will be removed in a future version.\n",
      "Instructions for updating:\n",
      "Use tf.cast instead.\n",
      "Epoch 1/25\n",
      "187/187 [==============================] - 308s 2s/step - loss: 0.6850 - acc: 0.5603 - val_loss: 0.6619 - val_acc: 0.5742\n",
      "Epoch 2/25\n",
      "187/187 [==============================] - 314s 2s/step - loss: 0.6194 - acc: 0.6551 - val_loss: 0.5724 - val_acc: 0.7153\n",
      "Epoch 3/25\n",
      "187/187 [==============================] - 316s 2s/step - loss: 0.5789 - acc: 0.6985 - val_loss: 0.5415 - val_acc: 0.7334\n",
      "Epoch 4/25\n",
      "187/187 [==============================] - 317s 2s/step - loss: 0.5519 - acc: 0.7171 - val_loss: 0.5178 - val_acc: 0.7485\n",
      "Epoch 5/25\n",
      "187/187 [==============================] - 302s 2s/step - loss: 0.5319 - acc: 0.7368 - val_loss: 0.5004 - val_acc: 0.7547\n",
      "Epoch 6/25\n",
      "187/187 [==============================] - 301s 2s/step - loss: 0.4883 - acc: 0.7577 - val_loss: 0.4955 - val_acc: 0.7674\n",
      "Epoch 7/25\n",
      "187/187 [==============================] - 301s 2s/step - loss: 0.4988 - acc: 0.7550 - val_loss: 0.4695 - val_acc: 0.7775\n",
      "Epoch 8/25\n",
      "187/187 [==============================] - 315s 2s/step - loss: 0.4927 - acc: 0.7609 - val_loss: 0.4820 - val_acc: 0.7746\n",
      "Epoch 9/25\n",
      "187/187 [==============================] - 301s 2s/step - loss: 0.4682 - acc: 0.7782 - val_loss: 0.4676 - val_acc: 0.7776\n",
      "Epoch 10/25\n",
      "187/187 [==============================] - 301s 2s/step - loss: 0.4451 - acc: 0.7864 - val_loss: 0.5071 - val_acc: 0.7522\n",
      "Epoch 11/25\n",
      "187/187 [==============================] - 304s 2s/step - loss: 0.4390 - acc: 0.7956 - val_loss: 0.6265 - val_acc: 0.7279\n",
      "Epoch 12/25\n",
      "187/187 [==============================] - 304s 2s/step - loss: 0.4425 - acc: 0.7924 - val_loss: 0.4946 - val_acc: 0.7694\n",
      "Epoch 13/25\n",
      "187/187 [==============================] - 301s 2s/step - loss: 0.4255 - acc: 0.7995 - val_loss: 0.4501 - val_acc: 0.7917\n",
      "Epoch 14/25\n",
      "187/187 [==============================] - 302s 2s/step - loss: 0.4256 - acc: 0.7998 - val_loss: 0.4980 - val_acc: 0.7780\n",
      "Epoch 15/25\n",
      "187/187 [==============================] - 302s 2s/step - loss: 0.4022 - acc: 0.8152 - val_loss: 0.4776 - val_acc: 0.7982\n",
      "Epoch 16/25\n",
      "187/187 [==============================] - 302s 2s/step - loss: 0.4061 - acc: 0.8108 - val_loss: 0.4500 - val_acc: 0.7956\n",
      "Epoch 17/25\n",
      "187/187 [==============================] - 302s 2s/step - loss: 0.4031 - acc: 0.8115 - val_loss: 0.4383 - val_acc: 0.8042\n",
      "Epoch 18/25\n",
      "187/187 [==============================] - 331s 2s/step - loss: 0.3793 - acc: 0.8295 - val_loss: 0.4728 - val_acc: 0.8007\n",
      "Epoch 19/25\n",
      "187/187 [==============================] - 574s 3s/step - loss: 0.3780 - acc: 0.8294 - val_loss: 0.5035 - val_acc: 0.7820\n",
      "Epoch 20/25\n",
      "187/187 [==============================] - 418s 2s/step - loss: 0.3747 - acc: 0.8312 - val_loss: 0.4439 - val_acc: 0.7970\n",
      "Epoch 21/25\n",
      "187/187 [==============================] - 299s 2s/step - loss: 0.3585 - acc: 0.8429 - val_loss: 0.4664 - val_acc: 0.8015\n",
      "Epoch 22/25\n",
      "187/187 [==============================] - 296s 2s/step - loss: 0.3435 - acc: 0.8479 - val_loss: 0.4605 - val_acc: 0.8123\n",
      "Epoch 23/25\n",
      "187/187 [==============================] - 370s 2s/step - loss: 0.3513 - acc: 0.8431 - val_loss: 0.4706 - val_acc: 0.8078\n",
      "Epoch 24/25\n",
      "187/187 [==============================] - 299s 2s/step - loss: 0.3449 - acc: 0.8489 - val_loss: 0.4665 - val_acc: 0.8036\n",
      "Epoch 25/25\n",
      "187/187 [==============================] - 296s 2s/step - loss: 0.3167 - acc: 0.8645 - val_loss: 0.4558 - val_acc: 0.8066\n"
     ]
    },
    {
     "data": {
      "text/plain": [
       "<keras.callbacks.History at 0xd1d8320>"
      ]
     },
     "execution_count": 12,
     "metadata": {},
     "output_type": "execute_result"
    }
   ],
   "source": [
    "classifier.fit_generator(train_data,\n",
    "                         samples_per_epoch = 6000,\n",
    "                         nb_epoch = 25,\n",
    "                         validation_data = test_data,\n",
    "                         nb_val_samples = 2000)"
   ]
  },
  {
   "cell_type": "markdown",
   "metadata": {},
   "source": [
    "  So we can say that test accuracy is approx 80%\n",
    "  "
   ]
  }
 ],
 "metadata": {
  "kernelspec": {
   "display_name": "Python 3",
   "language": "python",
   "name": "python3"
  },
  "language_info": {
   "codemirror_mode": {
    "name": "ipython",
    "version": 3
   },
   "file_extension": ".py",
   "mimetype": "text/x-python",
   "name": "python",
   "nbconvert_exporter": "python",
   "pygments_lexer": "ipython3",
   "version": "3.7.1"
  }
 },
 "nbformat": 4,
 "nbformat_minor": 2
}
